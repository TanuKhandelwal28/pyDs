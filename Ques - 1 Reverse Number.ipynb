{
 "cells": [
  {
   "cell_type": "markdown",
   "metadata": {},
   "source": [
    "# Ques - 1 Reverse Number"
   ]
  },
  {
   "cell_type": "code",
   "execution_count": 40,
   "metadata": {},
   "outputs": [
    {
     "name": "stdout",
     "output_type": "stream",
     "text": [
      "Enter the number3200\n",
      "Number= 3200\n",
      "reverse number= 23\n"
     ]
    }
   ],
   "source": [
    "def reverse(n):    \n",
    "    r=0              # r is a remainder of a number\n",
    "    rev=0           # rev is a reverse output number\n",
    "    while(n>0):\n",
    "        r=n%10\n",
    "        n=int(n/10)\n",
    "        rev=rev*10+r\n",
    "    return rev\n",
    "\n",
    "a=int(input(\"Enter the number\"))       # input number\n",
    "b=reverse(a)                           # reverse final output\n",
    "print(\"Number=\",a)\n",
    "print(\"reverse number=\",b)\n",
    "    \n",
    "    \n",
    "\n",
    "        "
   ]
  }
 ],
 "metadata": {
  "kernelspec": {
   "display_name": "Python 3",
   "language": "python",
   "name": "python3"
  },
  "language_info": {
   "codemirror_mode": {
    "name": "ipython",
    "version": 3
   },
   "file_extension": ".py",
   "mimetype": "text/x-python",
   "name": "python",
   "nbconvert_exporter": "python",
   "pygments_lexer": "ipython3",
   "version": "3.7.6"
  }
 },
 "nbformat": 4,
 "nbformat_minor": 4
}

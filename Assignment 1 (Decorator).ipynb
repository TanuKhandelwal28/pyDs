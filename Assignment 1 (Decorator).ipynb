{
 "cells": [
  {
   "cell_type": "code",
   "execution_count": 2,
   "metadata": {},
   "outputs": [
    {
     "name": "stdout",
     "output_type": "stream",
     "text": [
      "Function 'function' with positional arguments (3, 4) and keyword arguments {'c': 5, 'f': 3} took 1.2000000424450263e-06 seconds to complete\n"
     ]
    }
   ],
   "source": [
    "import timeit\n",
    "\n",
    "def timer(func):\n",
    "    def inner(*args, **kwargs):\n",
    "        if args==() and kwargs=={}:\n",
    "            start_time = timeit.default_timer()\n",
    "            func()\n",
    "            elapsed = timeit.default_timer() - start_time\n",
    "            print(\"Function '{name}' took {time} seconds to complete\".format(name = func.__name__, time = elapsed))\n",
    "            return func()\n",
    "        elif args != () and kwargs == {}:\n",
    "            start_time = timeit.default_timer()\n",
    "            func(*args)\n",
    "            elapsed = timeit.default_timer() - start_time\n",
    "            print(\"Function '{name}' with positional arguments {positional} took {time} seconds to complete\".format(name = func.__name__, positional = args, time = elapsed))\n",
    "            return func(*args)\n",
    "        elif args == () and kwargs != {}:\n",
    "            start_time = timeit.default_timer()\n",
    "            func(**kwargs)\n",
    "            elapsed = timeit.default_timer() - start_time\n",
    "            print(\"Function '{name}' with keyword arguments {keyword} took {time} seconds to complete\".format(name = func.__name__, keyword = kwargs,time = elapsed))\n",
    "            return func(**kwargs)\n",
    "        elif args != () and kwargs != {}:\n",
    "            start_time = timeit.default_timer()\n",
    "            func(*args, **kwargs)\n",
    "            elapsed = timeit.default_timer() - start_time\n",
    "            print(\"Function '{name}' with positional arguments {positional} and keyword arguments {keyword} took {time} seconds to complete\".format(name = func.__name__, positional = args, keyword = kwargs, time = elapsed))\n",
    "            return func(*args, **kwargs)\n",
    "    return inner\n",
    "\n",
    "@timer\n",
    "def function(a,b,c,f):\n",
    "    return\n",
    "\n",
    "function(3,4,c=5,f=3)"
   ]
  }
 ],
 "metadata": {
  "kernelspec": {
   "display_name": "Python 3",
   "language": "python",
   "name": "python3"
  },
  "language_info": {
   "codemirror_mode": {
    "name": "ipython",
    "version": 3
   },
   "file_extension": ".py",
   "mimetype": "text/x-python",
   "name": "python",
   "nbconvert_exporter": "python",
   "pygments_lexer": "ipython3",
   "version": "3.7.6"
  }
 },
 "nbformat": 4,
 "nbformat_minor": 4
}

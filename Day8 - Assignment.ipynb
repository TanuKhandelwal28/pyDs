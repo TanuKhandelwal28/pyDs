{
 "cells": [
  {
   "cell_type": "markdown",
   "metadata": {},
   "source": [
    "\n",
    "A. Make a ndarray by using np.arange(120), reshape it into shape of (2,3,4,5) and do the following operation on this new ndarray:\n",
    "1. Access the value 91 using indexing\n",
    "2. obtain a range of value 35-39 from this ndarray\n",
    "3. Make another 1D array from this having values 0 and all multiples of 5\n",
    "4. obtain mean values on axis-3 elements.\n"
   ]
  },
  {
   "cell_type": "code",
   "execution_count": 2,
   "metadata": {},
   "outputs": [
    {
     "name": "stdout",
     "output_type": "stream",
     "text": [
      "91 \n",
      "\n",
      "\n",
      "[[35 36 37 38 39]] \n",
      "\n",
      "\n",
      "[  0   5  10  15  20  25  30  35  40  45  50  55  60  65  70  75  80  85\n",
      "  90  95 100 105 110 115] \n",
      "\n",
      "\n",
      "Mean values of axis-3 elements:\n"
     ]
    },
    {
     "data": {
      "text/plain": [
       "array([[[  2.,   7.,  12.,  17.],\n",
       "        [ 22.,  27.,  32.,  37.],\n",
       "        [ 42.,  47.,  52.,  57.]],\n",
       "\n",
       "       [[ 62.,  67.,  72.,  77.],\n",
       "        [ 82.,  87.,  92.,  97.],\n",
       "        [102., 107., 112., 117.]]])"
      ]
     },
     "execution_count": 2,
     "metadata": {},
     "output_type": "execute_result"
    }
   ],
   "source": [
    "import numpy as np\n",
    "\n",
    "a = np.arange(120).reshape(2,3,4,5)\n",
    "\n",
    "print(a[1,1,2,1],\"\\n\\n\")\n",
    "\n",
    "print(a[0,1,3:],\"\\n\\n\")\n",
    "\n",
    "n= a[a % 5 == 0]\n",
    "print(n,\"\\n\\n\")\n",
    "\n",
    "print(\"Mean values of axis-3 elements:\")\n",
    "np.apply_along_axis(np.mean, axis=3, arr=a)"
   ]
  },
  {
   "cell_type": "markdown",
   "metadata": {},
   "source": [
    "B. Make a numpy ndarray np.linspace(5,20,24), and reshape into shape of (4,6).\n",
    "1. Split and stack to make array of shape (4,4) such that it contain elements of first, second ,fourth and sixth column.\n",
    "2. Split and stack to make array of shape (2,2) such that it contain elements of first and fourth row and third and fifth column.\n"
   ]
  },
  {
   "cell_type": "code",
   "execution_count": 10,
   "metadata": {},
   "outputs": [
    {
     "name": "stdout",
     "output_type": "stream",
     "text": [
      "\n",
      " [ 5.          5.65217391  6.30434783  6.95652174  7.60869565  8.26086957\n",
      "  8.91304348  9.56521739 10.2173913  10.86956522 11.52173913 12.17391304\n",
      " 12.82608696 13.47826087 14.13043478 14.7826087  15.43478261 16.08695652\n",
      " 16.73913043 17.39130435 18.04347826 18.69565217 19.34782609 20.        ] \n",
      "\n",
      "Ans-1\n",
      "[[ 5.          5.65217391  6.95652174  8.26086957]\n",
      " [ 8.91304348  9.56521739 10.86956522 12.17391304]\n",
      " [12.82608696 13.47826087 14.7826087  16.08695652]\n",
      " [16.73913043 17.39130435 18.69565217 20.        ]]\n",
      "Ans-2\n",
      " [[ 6.30434783  7.60869565]\n",
      " [18.04347826 19.34782609]] \n",
      "\n"
     ]
    }
   ],
   "source": [
    "import numpy as np\n",
    "b = np.linspace(5,20,24)\n",
    "print(\"\\n\",b,\"\\n\")\n",
    "b=b.reshape(4,6)\n",
    "print(\"Ans-1\")\n",
    "[s1,s2,s3,s4,s5,s6] = np.hsplit(b,(1,2,3,4,5))\n",
    "first_array = np.hstack((s1,s2,s4,s6))\n",
    "print(first_array)\n",
    "[r1,r2,r3,r4] = np.vsplit(b,(1,2,3))\n",
    "[c1,c2,c3,c4,c5,c6] = np.hsplit(r1,(1,2,3,4,5))\n",
    "[d1,d2,d3,d4,d5,d6] = np.hsplit(r4,(1,2,3,4,5))\n",
    "second_array = np.array([c3,c5,d3,d5]).reshape(2,2)\n",
    "print(\"Ans-2\\n\",second_array,\"\\n\")"
   ]
  },
  {
   "cell_type": "markdown",
   "metadata": {},
   "source": [
    "C. Plot a function of log2 and straight line y = 0.5x - 1 using matplotlib and find out approximate value at which they intersect. Make sure you have legend in the figure naming the curve.\n"
   ]
  },
  {
   "cell_type": "code",
   "execution_count": 9,
   "metadata": {},
   "outputs": [
    {
     "data": {
      "image/png": "[encoded data removed]",
      "text/plain": [
       "<Figure size 432x288 with 1 Axes>"
      ]
     },
     "metadata": {
      "needs_background": "light"
     },
     "output_type": "display_data"
    }
   ],
   "source": [
    "\n",
    "from matplotlib import pyplot as plt\n",
    "\n",
    "x1 = np.linspace(-20,20)\n",
    "\n",
    "plt.plot(x1,x1*0.5 - 1,color='red' ,label=\"y=0.5x+1\")\n",
    "\n",
    "x2 = np.linspace(0.000001,30)\n",
    "\n",
    "plt.plot(x2,np.log2(x2),color='black' ,label=\"y=log2(x)\")\n",
    "\n",
    "plt.grid(True)\n",
    "\n",
    "plt.legend(loc=\"best\")\n",
    "\n",
    "plt.xlabel(\"x-label\") \n",
    "\n",
    "plt.ylabel(\"y-label\") \n",
    "\n",
    "plt.show()"
   ]
  },
  {
   "cell_type": "code",
   "execution_count": null,
   "metadata": {},
   "outputs": [],
   "source": []
  }
 ],
 "metadata": {
  "kernelspec": {
   "display_name": "Python 3",
   "language": "python",
   "name": "python3"
  },
  "language_info": {
   "codemirror_mode": {
    "name": "ipython",
    "version": 3
   },
   "file_extension": ".py",
   "mimetype": "text/x-python",
   "name": "python",
   "nbconvert_exporter": "python",
   "pygments_lexer": "ipython3",
   "version": "3.7.6"
  }
 },
 "nbformat": 4,
 "nbformat_minor": 4
}

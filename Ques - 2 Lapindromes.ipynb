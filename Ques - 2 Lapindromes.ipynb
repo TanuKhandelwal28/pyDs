{
 "cells": [
  {
   "cell_type": "markdown",
   "metadata": {},
   "source": [
    "# Ques - 2 Lapindromes"
   ]
  },
  {
   "cell_type": "code",
   "execution_count": 1,
   "metadata": {},
   "outputs": [
    {
     "name": "stdout",
     "output_type": "stream",
     "text": [
      "abcaab\n",
      "first string= ['a', 'b', 'c']\n",
      "second string= ['a', 'a', 'b']\n",
      "No\n"
     ]
    }
   ],
   "source": [
    "s=input()\n",
    "s1=\"\"\n",
    "s2=\"\"\n",
    "if(len(s)%2==0):\n",
    "    s1=s[:len(s)//2]\n",
    "    s2=s[len(s)//2:]\n",
    "else:\n",
    "    s1=s[:len(s)//2]\n",
    "    s2=s[len(s)//2+1:]\n",
    "l1=list(s1)\n",
    "l2=list(s2)\n",
    "l1.sort()\n",
    "l2.sort()\n",
    "s1=str(l1)\n",
    "s2=str(l2)\n",
    "\n",
    "print(\"first string=\",s1)\n",
    "print(\"second string=\",s2)\n",
    "\n",
    "if(s1==s2):\n",
    "    print(\"Yes\")\n",
    "else:\n",
    "    print(\"No\")\n"
   ]
  },
  {
   "cell_type": "code",
   "execution_count": 2,
   "metadata": {},
   "outputs": [
    {
     "name": "stdout",
     "output_type": "stream",
     "text": [
      "abcab\n",
      "first string= ['a', 'b']\n",
      "second string= ['a', 'b']\n",
      "Yes\n"
     ]
    }
   ],
   "source": [
    "s=input()\n",
    "s1=\"\"\n",
    "s2=\"\"\n",
    "if(len(s)%2==0):\n",
    "    s1=s[:len(s)//2]\n",
    "    s2=s[len(s)//2:]\n",
    "else:\n",
    "    s1=s[:len(s)//2]\n",
    "    s2=s[len(s)//2+1:]\n",
    "l1=list(s1)\n",
    "l2=list(s2)\n",
    "l1.sort()\n",
    "l2.sort()\n",
    "s1=str(l1)\n",
    "s2=str(l2)\n",
    "\n",
    "print(\"first string=\",s1)\n",
    "print(\"second string=\",s2)\n",
    "\n",
    "if(s1==s2):\n",
    "    print(\"Yes\")\n",
    "else:\n",
    "    print(\"No\")\n"
   ]
  }
 ],
 "metadata": {
  "kernelspec": {
   "display_name": "Python 3",
   "language": "python",
   "name": "python3"
  },
  "language_info": {
   "codemirror_mode": {
    "name": "ipython",
    "version": 3
   },
   "file_extension": ".py",
   "mimetype": "text/x-python",
   "name": "python",
   "nbconvert_exporter": "python",
   "pygments_lexer": "ipython3",
   "version": "3.7.6"
  }
 },
 "nbformat": 4,
 "nbformat_minor": 4
}
